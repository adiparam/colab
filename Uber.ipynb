{
  "nbformat": 4,
  "nbformat_minor": 0,
  "metadata": {
    "colab": {
      "name": "Uber",
      "version": "0.3.2",
      "provenance": [],
      "collapsed_sections": [],
      "include_colab_link": true
    },
    "kernelspec": {
      "name": "python3",
      "display_name": "Python 3"
    }
  },
  "cells": [
    {
      "cell_type": "markdown",
      "metadata": {
        "id": "view-in-github",
        "colab_type": "text"
      },
      "source": [
        "<a href=\"https://colab.research.google.com/github/paditya09/colab/blob/master/Uber.ipynb\" target=\"_parent\"><img src=\"https://colab.research.google.com/assets/colab-badge.svg\" alt=\"Open In Colab\"/></a>"
      ]
    },
    {
      "cell_type": "markdown",
      "metadata": {
        "id": "Nu572jEKAxv5",
        "colab_type": "text"
      },
      "source": [
        "# Data Upload"
      ]
    },
    {
      "cell_type": "code",
      "metadata": {
        "id": "Vq6hVOtqA4y4",
        "colab_type": "code",
        "outputId": "af4ec552-f4ef-46f6-cced-04be67c5a230",
        "colab": {
          "resources": {
            "http://localhost:8080/nbextensions/google.colab/files.js": {
              "data": "Ly8gQ29weXJpZ2h0IDIwMTcgR29vZ2xlIExMQwovLwovLyBMaWNlbnNlZCB1bmRlciB0aGUgQXBhY2hlIExpY2Vuc2UsIFZlcnNpb24gMi4wICh0aGUgIkxpY2Vuc2UiKTsKLy8geW91IG1heSBub3QgdXNlIHRoaXMgZmlsZSBleGNlcHQgaW4gY29tcGxpYW5jZSB3aXRoIHRoZSBMaWNlbnNlLgovLyBZb3UgbWF5IG9idGFpbiBhIGNvcHkgb2YgdGhlIExpY2Vuc2UgYXQKLy8KLy8gICAgICBodHRwOi8vd3d3LmFwYWNoZS5vcmcvbGljZW5zZXMvTElDRU5TRS0yLjAKLy8KLy8gVW5sZXNzIHJlcXVpcmVkIGJ5IGFwcGxpY2FibGUgbGF3IG9yIGFncmVlZCB0byBpbiB3cml0aW5nLCBzb2Z0d2FyZQovLyBkaXN0cmlidXRlZCB1bmRlciB0aGUgTGljZW5zZSBpcyBkaXN0cmlidXRlZCBvbiBhbiAiQVMgSVMiIEJBU0lTLAovLyBXSVRIT1VUIFdBUlJBTlRJRVMgT1IgQ09ORElUSU9OUyBPRiBBTlkgS0lORCwgZWl0aGVyIGV4cHJlc3Mgb3IgaW1wbGllZC4KLy8gU2VlIHRoZSBMaWNlbnNlIGZvciB0aGUgc3BlY2lmaWMgbGFuZ3VhZ2UgZ292ZXJuaW5nIHBlcm1pc3Npb25zIGFuZAovLyBsaW1pdGF0aW9ucyB1bmRlciB0aGUgTGljZW5zZS4KCi8qKgogKiBAZmlsZW92ZXJ2aWV3IEhlbHBlcnMgZm9yIGdvb2dsZS5jb2xhYiBQeXRob24gbW9kdWxlLgogKi8KKGZ1bmN0aW9uKHNjb3BlKSB7CmZ1bmN0aW9uIHNwYW4odGV4dCwgc3R5bGVBdHRyaWJ1dGVzID0ge30pIHsKICBjb25zdCBlbGVtZW50ID0gZG9jdW1lbnQuY3JlYXRlRWxlbWVudCgnc3BhbicpOwogIGVsZW1lbnQudGV4dENvbnRlbnQgPSB0ZXh0OwogIGZvciAoY29uc3Qga2V5IG9mIE9iamVjdC5rZXlzKHN0eWxlQXR0cmlidXRlcykpIHsKICAgIGVsZW1lbnQuc3R5bGVba2V5XSA9IHN0eWxlQXR0cmlidXRlc1trZXldOwogIH0KICByZXR1cm4gZWxlbWVudDsKfQoKLy8gTWF4IG51bWJlciBvZiBieXRlcyB3aGljaCB3aWxsIGJlIHVwbG9hZGVkIGF0IGEgdGltZS4KY29uc3QgTUFYX1BBWUxPQURfU0laRSA9IDEwMCAqIDEwMjQ7Ci8vIE1heCBhbW91bnQgb2YgdGltZSB0byBibG9jayB3YWl0aW5nIGZvciB0aGUgdXNlci4KY29uc3QgRklMRV9DSEFOR0VfVElNRU9VVF9NUyA9IDMwICogMTAwMDsKCmZ1bmN0aW9uIF91cGxvYWRGaWxlcyhpbnB1dElkLCBvdXRwdXRJZCkgewogIGNvbnN0IHN0ZXBzID0gdXBsb2FkRmlsZXNTdGVwKGlucHV0SWQsIG91dHB1dElkKTsKICBjb25zdCBvdXRwdXRFbGVtZW50ID0gZG9jdW1lbnQuZ2V0RWxlbWVudEJ5SWQob3V0cHV0SWQpOwogIC8vIENhY2hlIHN0ZXBzIG9uIHRoZSBvdXRwdXRFbGVtZW50IHRvIG1ha2UgaXQgYXZhaWxhYmxlIGZvciB0aGUgbmV4dCBjYWxsCiAgLy8gdG8gdXBsb2FkRmlsZXNDb250aW51ZSBmcm9tIFB5dGhvbi4KICBvdXRwdXRFbGVtZW50LnN0ZXBzID0gc3RlcHM7CgogIHJldHVybiBfdXBsb2FkRmlsZXNDb250aW51ZShvdXRwdXRJZCk7Cn0KCi8vIFRoaXMgaXMgcm91Z2hseSBhbiBhc3luYyBnZW5lcmF0b3IgKG5vdCBzdXBwb3J0ZWQgaW4gdGhlIGJyb3dzZXIgeWV0KSwKLy8gd2hlcmUgdGhlcmUgYXJlIG11bHRpcGxlIGFzeW5jaHJvbm91cyBzdGVwcyBhbmQgdGhlIFB5dGhvbiBzaWRlIGlzIGdvaW5nCi8vIHRvIHBvbGwgZm9yIGNvbXBsZXRpb24gb2YgZWFjaCBzdGVwLgovLyBUaGlzIHVzZXMgYSBQcm9taXNlIHRvIGJsb2NrIHRoZSBweXRob24gc2lkZSBvbiBjb21wbGV0aW9uIG9mIGVhY2ggc3RlcCwKLy8gdGhlbiBwYXNzZXMgdGhlIHJlc3VsdCBvZiB0aGUgcHJldmlvdXMgc3RlcCBhcyB0aGUgaW5wdXQgdG8gdGhlIG5leHQgc3RlcC4KZnVuY3Rpb24gX3VwbG9hZEZpbGVzQ29udGludWUob3V0cHV0SWQpIHsKICBjb25zdCBvdXRwdXRFbGVtZW50ID0gZG9jdW1lbnQuZ2V0RWxlbWVudEJ5SWQob3V0cHV0SWQpOwogIGNvbnN0IHN0ZXBzID0gb3V0cHV0RWxlbWVudC5zdGVwczsKCiAgY29uc3QgbmV4dCA9IHN0ZXBzLm5leHQob3V0cHV0RWxlbWVudC5sYXN0UHJvbWlzZVZhbHVlKTsKICByZXR1cm4gUHJvbWlzZS5yZXNvbHZlKG5leHQudmFsdWUucHJvbWlzZSkudGhlbigodmFsdWUpID0+IHsKICAgIC8vIENhY2hlIHRoZSBsYXN0IHByb21pc2UgdmFsdWUgdG8gbWFrZSBpdCBhdmFpbGFibGUgdG8gdGhlIG5leHQKICAgIC8vIHN0ZXAgb2YgdGhlIGdlbmVyYXRvci4KICAgIG91dHB1dEVsZW1lbnQubGFzdFByb21pc2VWYWx1ZSA9IHZhbHVlOwogICAgcmV0dXJuIG5leHQudmFsdWUucmVzcG9uc2U7CiAgfSk7Cn0KCi8qKgogKiBHZW5lcmF0b3IgZnVuY3Rpb24gd2hpY2ggaXMgY2FsbGVkIGJldHdlZW4gZWFjaCBhc3luYyBzdGVwIG9mIHRoZSB1cGxvYWQKICogcHJvY2Vzcy4KICogQHBhcmFtIHtzdHJpbmd9IGlucHV0SWQgRWxlbWVudCBJRCBvZiB0aGUgaW5wdXQgZmlsZSBwaWNrZXIgZWxlbWVudC4KICogQHBhcmFtIHtzdHJpbmd9IG91dHB1dElkIEVsZW1lbnQgSUQgb2YgdGhlIG91dHB1dCBkaXNwbGF5LgogKiBAcmV0dXJuIHshSXRlcmFibGU8IU9iamVjdD59IEl0ZXJhYmxlIG9mIG5leHQgc3RlcHMuCiAqLwpmdW5jdGlvbiogdXBsb2FkRmlsZXNTdGVwKGlucHV0SWQsIG91dHB1dElkKSB7CiAgY29uc3QgaW5wdXRFbGVtZW50ID0gZG9jdW1lbnQuZ2V0RWxlbWVudEJ5SWQoaW5wdXRJZCk7CiAgaW5wdXRFbGVtZW50LmRpc2FibGVkID0gZmFsc2U7CgogIGNvbnN0IG91dHB1dEVsZW1lbnQgPSBkb2N1bWVudC5nZXRFbGVtZW50QnlJZChvdXRwdXRJZCk7CiAgb3V0cHV0RWxlbWVudC5pbm5lckhUTUwgPSAnJzsKCiAgY29uc3QgcGlja2VkUHJvbWlzZSA9IG5ldyBQcm9taXNlKChyZXNvbHZlKSA9PiB7CiAgICBpbnB1dEVsZW1lbnQuYWRkRXZlbnRMaXN0ZW5lcignY2hhbmdlJywgKGUpID0+IHsKICAgICAgcmVzb2x2ZShlLnRhcmdldC5maWxlcyk7CiAgICB9KTsKICB9KTsKCiAgY29uc3QgY2FuY2VsID0gZG9jdW1lbnQuY3JlYXRlRWxlbWVudCgnYnV0dG9uJyk7CiAgaW5wdXRFbGVtZW50LnBhcmVudEVsZW1lbnQuYXBwZW5kQ2hpbGQoY2FuY2VsKTsKICBjYW5jZWwudGV4dENvbnRlbnQgPSAnQ2FuY2VsIHVwbG9hZCc7CiAgY29uc3QgY2FuY2VsUHJvbWlzZSA9IG5ldyBQcm9taXNlKChyZXNvbHZlKSA9PiB7CiAgICBjYW5jZWwub25jbGljayA9ICgpID0+IHsKICAgICAgcmVzb2x2ZShudWxsKTsKICAgIH07CiAgfSk7CgogIC8vIENhbmNlbCB1cGxvYWQgaWYgdXNlciBoYXNuJ3QgcGlja2VkIGFueXRoaW5nIGluIHRpbWVvdXQuCiAgY29uc3QgdGltZW91dFByb21pc2UgPSBuZXcgUHJvbWlzZSgocmVzb2x2ZSkgPT4gewogICAgc2V0VGltZW91dCgoKSA9PiB7CiAgICAgIHJlc29sdmUobnVsbCk7CiAgICB9LCBGSUxFX0NIQU5HRV9USU1FT1VUX01TKTsKICB9KTsKCiAgLy8gV2FpdCBmb3IgdGhlIHVzZXIgdG8gcGljayB0aGUgZmlsZXMuCiAgY29uc3QgZmlsZXMgPSB5aWVsZCB7CiAgICBwcm9taXNlOiBQcm9taXNlLnJhY2UoW3BpY2tlZFByb21pc2UsIHRpbWVvdXRQcm9taXNlLCBjYW5jZWxQcm9taXNlXSksCiAgICByZXNwb25zZTogewogICAgICBhY3Rpb246ICdzdGFydGluZycsCiAgICB9CiAgfTsKCiAgaWYgKCFmaWxlcykgewogICAgcmV0dXJuIHsKICAgICAgcmVzcG9uc2U6IHsKICAgICAgICBhY3Rpb246ICdjb21wbGV0ZScsCiAgICAgIH0KICAgIH07CiAgfQoKICBjYW5jZWwucmVtb3ZlKCk7CgogIC8vIERpc2FibGUgdGhlIGlucHV0IGVsZW1lbnQgc2luY2UgZnVydGhlciBwaWNrcyBhcmUgbm90IGFsbG93ZWQuCiAgaW5wdXRFbGVtZW50LmRpc2FibGVkID0gdHJ1ZTsKCiAgZm9yIChjb25zdCBmaWxlIG9mIGZpbGVzKSB7CiAgICBjb25zdCBsaSA9IGRvY3VtZW50LmNyZWF0ZUVsZW1lbnQoJ2xpJyk7CiAgICBsaS5hcHBlbmQoc3BhbihmaWxlLm5hbWUsIHtmb250V2VpZ2h0OiAnYm9sZCd9KSk7CiAgICBsaS5hcHBlbmQoc3BhbigKICAgICAgICBgKCR7ZmlsZS50eXBlIHx8ICduL2EnfSkgLSAke2ZpbGUuc2l6ZX0gYnl0ZXMsIGAgKwogICAgICAgIGBsYXN0IG1vZGlmaWVkOiAkewogICAgICAgICAgICBmaWxlLmxhc3RNb2RpZmllZERhdGUgPyBmaWxlLmxhc3RNb2RpZmllZERhdGUudG9Mb2NhbGVEYXRlU3RyaW5nKCkgOgogICAgICAgICAgICAgICAgICAgICAgICAgICAgICAgICAgICAnbi9hJ30gLSBgKSk7CiAgICBjb25zdCBwZXJjZW50ID0gc3BhbignMCUgZG9uZScpOwogICAgbGkuYXBwZW5kQ2hpbGQocGVyY2VudCk7CgogICAgb3V0cHV0RWxlbWVudC5hcHBlbmRDaGlsZChsaSk7CgogICAgY29uc3QgZmlsZURhdGFQcm9taXNlID0gbmV3IFByb21pc2UoKHJlc29sdmUpID0+IHsKICAgICAgY29uc3QgcmVhZGVyID0gbmV3IEZpbGVSZWFkZXIoKTsKICAgICAgcmVhZGVyLm9ubG9hZCA9IChlKSA9PiB7CiAgICAgICAgcmVzb2x2ZShlLnRhcmdldC5yZXN1bHQpOwogICAgICB9OwogICAgICByZWFkZXIucmVhZEFzQXJyYXlCdWZmZXIoZmlsZSk7CiAgICB9KTsKICAgIC8vIFdhaXQgZm9yIHRoZSBkYXRhIHRvIGJlIHJlYWR5LgogICAgbGV0IGZpbGVEYXRhID0geWllbGQgewogICAgICBwcm9taXNlOiBmaWxlRGF0YVByb21pc2UsCiAgICAgIHJlc3BvbnNlOiB7CiAgICAgICAgYWN0aW9uOiAnY29udGludWUnLAogICAgICB9CiAgICB9OwoKICAgIC8vIFVzZSBhIGNodW5rZWQgc2VuZGluZyB0byBhdm9pZCBtZXNzYWdlIHNpemUgbGltaXRzLiBTZWUgYi82MjExNTY2MC4KICAgIGxldCBwb3NpdGlvbiA9IDA7CiAgICB3aGlsZSAocG9zaXRpb24gPCBmaWxlRGF0YS5ieXRlTGVuZ3RoKSB7CiAgICAgIGNvbnN0IGxlbmd0aCA9IE1hdGgubWluKGZpbGVEYXRhLmJ5dGVMZW5ndGggLSBwb3NpdGlvbiwgTUFYX1BBWUxPQURfU0laRSk7CiAgICAgIGNvbnN0IGNodW5rID0gbmV3IFVpbnQ4QXJyYXkoZmlsZURhdGEsIHBvc2l0aW9uLCBsZW5ndGgpOwogICAgICBwb3NpdGlvbiArPSBsZW5ndGg7CgogICAgICBjb25zdCBiYXNlNjQgPSBidG9hKFN0cmluZy5mcm9tQ2hhckNvZGUuYXBwbHkobnVsbCwgY2h1bmspKTsKICAgICAgeWllbGQgewogICAgICAgIHJlc3BvbnNlOiB7CiAgICAgICAgICBhY3Rpb246ICdhcHBlbmQnLAogICAgICAgICAgZmlsZTogZmlsZS5uYW1lLAogICAgICAgICAgZGF0YTogYmFzZTY0LAogICAgICAgIH0sCiAgICAgIH07CiAgICAgIHBlcmNlbnQudGV4dENvbnRlbnQgPQogICAgICAgICAgYCR7TWF0aC5yb3VuZCgocG9zaXRpb24gLyBmaWxlRGF0YS5ieXRlTGVuZ3RoKSAqIDEwMCl9JSBkb25lYDsKICAgIH0KICB9CgogIC8vIEFsbCBkb25lLgogIHlpZWxkIHsKICAgIHJlc3BvbnNlOiB7CiAgICAgIGFjdGlvbjogJ2NvbXBsZXRlJywKICAgIH0KICB9Owp9CgpzY29wZS5nb29nbGUgPSBzY29wZS5nb29nbGUgfHwge307CnNjb3BlLmdvb2dsZS5jb2xhYiA9IHNjb3BlLmdvb2dsZS5jb2xhYiB8fCB7fTsKc2NvcGUuZ29vZ2xlLmNvbGFiLl9maWxlcyA9IHsKICBfdXBsb2FkRmlsZXMsCiAgX3VwbG9hZEZpbGVzQ29udGludWUsCn07Cn0pKHNlbGYpOwo=",
              "ok": true,
              "headers": [
                [
                  "content-type",
                  "application/javascript"
                ]
              ],
              "status": 200,
              "status_text": ""
            }
          },
          "base_uri": "https://localhost:8080/",
          "height": 75
        }
      },
      "source": [
        "import io\n",
        "import pandas as pd\n",
        "import numpy as np\n",
        "\n",
        "# Upload CSV file\n",
        "from google.colab import files\n",
        "uploaded = files.upload()\n"
      ],
      "execution_count": 0,
      "outputs": [
        {
          "output_type": "display_data",
          "data": {
            "text/html": [
              "\n",
              "     <input type=\"file\" id=\"files-532bb0f5-6416-4eb0-b58e-9957fbb8b86d\" name=\"files[]\" multiple disabled />\n",
              "     <output id=\"result-532bb0f5-6416-4eb0-b58e-9957fbb8b86d\">\n",
              "      Upload widget is only available when the cell has been executed in the\n",
              "      current browser session. Please rerun this cell to enable.\n",
              "      </output>\n",
              "      <script src=\"/nbextensions/google.colab/files.js\"></script> "
            ],
            "text/plain": [
              "<IPython.core.display.HTML object>"
            ]
          },
          "metadata": {
            "tags": []
          }
        },
        {
          "output_type": "stream",
          "text": [
            "Saving trips_data.csv to trips_data.csv\n"
          ],
          "name": "stdout"
        }
      ]
    },
    {
      "cell_type": "markdown",
      "metadata": {
        "id": "X_cOqCFWBJS7",
        "colab_type": "text"
      },
      "source": [
        "# Data Parsing"
      ]
    },
    {
      "cell_type": "code",
      "metadata": {
        "id": "H4mVTWB6BLxn",
        "colab_type": "code",
        "colab": {}
      },
      "source": [
        "# Uber ride datetime strings are stored with full timezone information\n",
        "# Example: 2019-08-29 01:03:26 +0000 UTC\n",
        "date_parser = lambda date_string: pd.datetime.strptime(\n",
        "    date_string, '%Y-%m-%d %H:%M:%S %z %Z')\n",
        "\n",
        "ride_data = pd.read_csv(\n",
        "    io.BytesIO(uploaded['trips_data.csv']),\n",
        "    parse_dates=['Request Time', 'Begin Trip Time', 'Dropoff Time'],\n",
        "    date_parser=date_parser,\n",
        "    dtype={'Fare Amount': 'float'}\n",
        ")\n",
        "\n",
        "# Small check that the uploaded CSV file meets my expectations\n",
        "if (ride_data.columns.to_list() != [\n",
        "        'City', 'Product Type', 'Trip or Order Status', 'Request Time',\n",
        "       'Begin Trip Time', 'Begin Trip Lat', 'Begin Trip Lng',\n",
        "       'Begin Trip Address', 'Dropoff Time', 'Dropoff Lat', 'Dropoff Lng',\n",
        "       'Dropoff Address', 'Distance (miles)', 'Fare Amount', 'Fare Currency']):\n",
        "  raise Exception(\n",
        "      \"CSV file doesn't have expected column names: %s\" % ride_data.columns.to_list)\n",
        "\n",
        "# Now the cleanup begins\n",
        "ride_data = ride_data.replace('uberX', 'UberX')\n",
        "ride_data = ride_data.replace(regex=r'.*(BLACK|black|Black).*', value='UberBlack')\n",
        "\n",
        "ride_data = ride_data.replace('sf bay area', 'UberBlack')\n",
        "#df2 = df2.replace('San Francisco', 'UberBlack')\n",
        "ride_data = ride_data.replace(regex=r'.*EATS.*', value='UberEATS')\n",
        "ride_data = ride_data.replace(regex=r'.*EXPRESS.*', value='Express Pool')\n",
        "ride_data = ride_data.replace(regex=r'.*Express.*', value='Express Pool')\n",
        "ride_data = ride_data.replace(regex=r'.*POOL.*', value='Uber Pool')\n",
        "ride_data = ride_data.replace(regex=r'.*UberPool.*', value='Uber Pool')\n",
        "ride_data = ride_data.replace(regex=r'^Pool:.*', value='Uber Pool')"
      ],
      "execution_count": 0,
      "outputs": []
    },
    {
      "cell_type": "markdown",
      "metadata": {
        "id": "EWTSL0w-BY8B",
        "colab_type": "text"
      },
      "source": [
        "# Derived Columns"
      ]
    },
    {
      "cell_type": "code",
      "metadata": {
        "id": "mi4xnxfkBasx",
        "colab_type": "code",
        "colab": {}
      },
      "source": [
        "exchange_rates = {\n",
        "    'USD': 1,\n",
        "    'EUR': 1.11,\n",
        "    'INR': 0.014,\n",
        "    'CAD': 0.75,\n",
        "    'CHF': 1.01,\n",
        "    'GBP': 1.22,\n",
        "    'CZK': 0.043\n",
        "}\n",
        "\n",
        "ride_data['USD Amount'] = ride_data.apply(\n",
        "    lambda row: row['Fare Amount'] * exchange_rates[row['Fare Currency']],\n",
        "    axis=1)\n",
        "\n",
        "# Need a helper function to avoid dividing by zero for rides that didn't happen\n",
        "# and therefore have a fare of $0.\n",
        "def dollarPerMiles(fare, miles):\n",
        "  if miles:\n",
        "    return fare / miles\n",
        "  else:\n",
        "    0\n",
        "\n",
        "ride_data['Cost per Mile'] = ride_data.apply(\n",
        "    lambda row: dollarPerMiles(row['USD Amount'], row['Distance (miles)']),\n",
        "    axis=1)\n",
        "\n",
        "ride_data['Trip Duration'] = ride_data.apply(\n",
        "    lambda row: row['Dropoff Time'] - row['Begin Trip Time'], axis=1)\n"
      ],
      "execution_count": 0,
      "outputs": []
    },
    {
      "cell_type": "markdown",
      "metadata": {
        "id": "ZEQTpUMlBlfT",
        "colab_type": "text"
      },
      "source": [
        "# Helper Functions"
      ]
    },
    {
      "cell_type": "code",
      "metadata": {
        "id": "CyvTKQabBnPN",
        "colab_type": "code",
        "colab": {}
      },
      "source": [
        "# Creates a bar chart for the given data with the given x-axis label and y-axis\n",
        "# label.\n",
        "def create_bar(data, xlabel, ylabel):\n",
        "  ax = data.plot.bar(figsize=(15,5))\n",
        "  ax.set_xlabel(xlabel)\n",
        "  ax.set_ylabel(ylabel)\n",
        "\n",
        "  def add_labels(ax, data):\n",
        "    rects = ax.patches\n",
        "\n",
        "    for rect, label in zip(rects, data):\n",
        "        height = rect.get_height()\n",
        "        ax.text(rect.get_x() + rect.get_width() / 2, height + 1, label,\n",
        "                ha='center', va='bottom')\n",
        "\n",
        "  add_labels(ax, data)\n",
        "\n",
        "# For time series over the years, I need annually grouped numbers for requested\n",
        "# and completed rides later on.\n",
        "annual_requested_rides = ride_data.groupby(\n",
        "    ride_data['Request Time'].dt.year)\n",
        "\n",
        "completed_rides = ride_data[ride_data['Trip or Order Status'] == 'COMPLETED']\n",
        "\n",
        "annual_completed_rides = completed_rides.groupby(\n",
        "    completed_rides['Request Time'].dt.year)\n",
        "\n",
        "# For other time series I need the data set grouped by year and product type (\n",
        "# Uber Black, UberX, ...)\n",
        "\n",
        "annual_completed_rides_p = completed_rides.groupby(\n",
        "    [completed_rides['Request Time'].dt.year, 'Product Type'])"
      ],
      "execution_count": 0,
      "outputs": []
    },
    {
      "cell_type": "markdown",
      "metadata": {
        "id": "Dtm3B3l3Bs_1",
        "colab_type": "text"
      },
      "source": [
        "# Global Statistics"
      ]
    },
    {
      "cell_type": "code",
      "metadata": {
        "id": "nOowa4vRBvon",
        "colab_type": "code",
        "outputId": "33d31952-7398-4435-8214-f3498427b69c",
        "colab": {
          "base_uri": "https://localhost:8080/",
          "height": 141
        }
      },
      "source": [
        "format_date = lambda date: date.strftime('%m/%d/%Y')\n",
        "first_ride = ride_data['Request Time'].min()\n",
        "last_ride = ride_data['Request Time'].max()\n",
        "days_between = (last_ride - first_ride).days\n",
        "years_between = days_between / 365\n",
        "print(\"Covered timeframe: %s to %s (%s days = %.2f years)\" % (\n",
        "    format_date(first_ride), format_date(last_ride),\n",
        "    days_between, years_between))\n",
        "print()\n",
        "\n",
        "total_rides_count = len(ride_data.index)\n",
        "print(\"Total number of requested rides: \", total_rides_count)\n",
        "\n",
        "completed_rides_count = len(completed_rides)\n",
        "print(\"Total number of completed rides: \", completed_rides_count)\n",
        "\n",
        "miles_driven = ride_data['Distance (miles)'].sum()\n",
        "print(\"Total miles driven: %.2f\" % miles_driven)\n",
        "\n",
        "dollars_spent = ride_data['USD Amount'].sum()\n",
        "print(\"Total amount of money spent: $%.2f\" % dollars_spent)\n",
        "\n",
        "dollars_per_mile = dollars_spent / miles_driven\n",
        "print(\"Total cost/mile: $%.2f\" % dollars_per_mile)"
      ],
      "execution_count": 0,
      "outputs": [
        {
          "output_type": "stream",
          "text": [
            "Covered timeframe: 10/01/2013 to 07/29/2019 (2126 days = 5.82 years)\n",
            "\n",
            "Total number of requested rides:  83\n",
            "Total number of completed rides:  75\n",
            "Total miles driven: 451.50\n",
            "Total amount of money spent: $1284.15\n",
            "Total cost/mile: $2.84\n"
          ],
          "name": "stdout"
        }
      ]
    },
    {
      "cell_type": "markdown",
      "metadata": {
        "id": "0kyOuEwHB7NJ",
        "colab_type": "text"
      },
      "source": [
        "# Cities"
      ]
    },
    {
      "cell_type": "code",
      "metadata": {
        "id": "8jl4cMoWB8hk",
        "colab_type": "code",
        "outputId": "17765fdf-2bb8-4bc5-9307-070be2226064",
        "colab": {
          "base_uri": "https://localhost:8080/",
          "height": 301
        }
      },
      "source": [
        "ride_data.groupby(ride_data['City']).size().sort_values(ascending=False)"
      ],
      "execution_count": 0,
      "outputs": [
        {
          "output_type": "execute_result",
          "data": {
            "text/plain": [
              "City\n",
              "New Jersey         37\n",
              "Paris              10\n",
              "Washington D.C.     9\n",
              "Bangalore           5\n",
              "Toronto             3\n",
              "Seattle             3\n",
              "San Francisco       3\n",
              "Philadelphia        3\n",
              "Hyderabad           3\n",
              "Rome                2\n",
              "New York City       2\n",
              "Vienna              1\n",
              "Chicago             1\n",
              "Austin              1\n",
              "dtype: int64"
            ]
          },
          "metadata": {
            "tags": []
          },
          "execution_count": 7
        }
      ]
    },
    {
      "cell_type": "markdown",
      "metadata": {
        "id": "36Uj-cWICGBj",
        "colab_type": "text"
      },
      "source": [
        "# Total trips and spending per year"
      ]
    },
    {
      "cell_type": "code",
      "metadata": {
        "id": "EbK76gY0CHbr",
        "colab_type": "code",
        "outputId": "b3306ed8-6e3b-4b68-e925-9c9924223ef4",
        "colab": {
          "base_uri": "https://localhost:8080/",
          "height": 355
        }
      },
      "source": [
        "# Using requested rides rather than completed rides here as cancelled rides cost\n",
        "# money too in the form of cancellation fees.\n",
        "\n",
        "create_bar(annual_requested_rides.size(), 'Year', 'Number of Rides')"
      ],
      "execution_count": 0,
      "outputs": [
        {
          "output_type": "display_data",
          "data": {
            "image/png": "[encoded data removed]",
            "text/plain": [
              "<Figure size 1080x360 with 1 Axes>"
            ]
          },
          "metadata": {
            "tags": []
          }
        }
      ]
    }
  ]
}