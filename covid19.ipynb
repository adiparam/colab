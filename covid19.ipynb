{
  "nbformat": 4,
  "nbformat_minor": 0,
  "metadata": {
    "colab": {
      "name": "covid19.ipynb",
      "provenance": [],
      "collapsed_sections": [],
      "authorship_tag": "ABX9TyPxrkTYdRXh8tvtscNMupAI"
    },
    "kernelspec": {
      "name": "python3",
      "display_name": "Python 3"
    }
  },
  "cells": [
    {
      "cell_type": "code",
      "metadata": {
        "id": "A_mRPDu8dKB0",
        "colab_type": "code",
        "colab": {}
      },
      "source": [
        "import pandas as pd\n",
        "\n",
        "confirmed_global = pd.read_csv('https://raw.githubusercontent.com/CSSEGISandData/COVID-19/master/csse_covid_19_data/csse_covid_19_time_series/time_series_covid19_confirmed_global.csv')\n",
        "country_df = pd.read_csv('https://raw.githubusercontent.com/CSSEGISandData/COVID-19/web-data/data/cases_country.csv')\n"
      ],
      "execution_count": 0,
      "outputs": []
    },
    {
      "cell_type": "code",
      "metadata": {
        "id": "uvEym5QMeI-r",
        "colab_type": "code",
        "colab": {}
      },
      "source": [
        "sorted_country_df = country_df.sort_values('Confirmed', ascending= False)"
      ],
      "execution_count": 0,
      "outputs": []
    },
    {
      "cell_type": "code",
      "metadata": {
        "id": "GXEUROvvfXci",
        "colab_type": "code",
        "colab": {}
      },
      "source": [
        "from ipywidgets import interact\n",
        "\n",
        "def highlight_col(x):\n",
        "    r = 'background-color: red'\n",
        "    p = 'background-color: purple'\n",
        "    g = 'background-color: lightgrey'\n",
        "    df1 = pd.DataFrame('', index=x.index, columns=x.columns)\n",
        "    df1.iloc[:, 4] = p\n",
        "    df1.iloc[:, 5] = r\n",
        "    df1.iloc[:, 6] = g\n",
        "    return df1\n",
        "\n",
        "def show_latest_cases(n):\n",
        "    n = int(n)\n",
        "    return country_df.sort_values('Confirmed', ascending= False).head(n).style.apply(highlight_col, axis=None)\n",
        "\n",
        "interact(show_latest_cases, n='10')"
      ],
      "execution_count": 0,
      "outputs": []
    }
  ]
}